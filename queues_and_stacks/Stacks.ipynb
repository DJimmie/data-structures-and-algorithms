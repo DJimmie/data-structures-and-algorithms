{
 "cells": [
  {
   "cell_type": "markdown",
   "metadata": {},
   "source": [
    "# STACKS"
   ]
  },
  {
   "cell_type": "markdown",
   "metadata": {},
   "source": [
    "### "
   ]
  },
  {
   "cell_type": "code",
   "execution_count": null,
   "metadata": {
    "collapsed": true
   },
   "outputs": [],
   "source": [
    "class Stack:\n",
    "\n",
    "    def __init__(self):\n",
    "        self._items = []\n",
    "\n",
    "    def is_empty(self):\n",
    "        return not bool(self._items)\n",
    "\n",
    "    def push(self, item):\n",
    "        self._items.append(item)\n",
    "        self.display_stack()\n",
    "\n",
    "    def pop(self):\n",
    "#         remove_item=self._items.pop()\n",
    "        return (self._items.pop(),self.display_stack())[0]\n",
    "    \n",
    "\n",
    "    def peek(self):\n",
    "        return self._items[-1]\n",
    "\n",
    "    def size(self):\n",
    "        return len(self._items)\n",
    "    \n",
    "    def display_stack(self):\n",
    "        print (self._items)"
   ]
  },
  {
   "cell_type": "code",
   "execution_count": null,
   "metadata": {
    "collapsed": true
   },
   "outputs": [],
   "source": []
  },
  {
   "cell_type": "code",
   "execution_count": null,
   "metadata": {
    "collapsed": true
   },
   "outputs": [],
   "source": [
    "a=Stack()"
   ]
  },
  {
   "cell_type": "code",
   "execution_count": null,
   "metadata": {},
   "outputs": [],
   "source": [
    "a.push('/');a.push(1);a.push('a');a.push('b')"
   ]
  },
  {
   "cell_type": "code",
   "execution_count": null,
   "metadata": {},
   "outputs": [],
   "source": [
    "a.size()"
   ]
  },
  {
   "cell_type": "code",
   "execution_count": null,
   "metadata": {},
   "outputs": [],
   "source": [
    "a.peek()"
   ]
  },
  {
   "cell_type": "code",
   "execution_count": null,
   "metadata": {},
   "outputs": [],
   "source": [
    "a.is_empty()"
   ]
  },
  {
   "cell_type": "code",
   "execution_count": null,
   "metadata": {},
   "outputs": [],
   "source": [
    "a.pop()"
   ]
  },
  {
   "cell_type": "markdown",
   "metadata": {},
   "source": [
    "### implement the stack using a list where the top is at the beginning instead of at the end. In this case, instead of using pop and append as above, instead we’d pop from and insert into position 0 in the list. "
   ]
  },
  {
   "cell_type": "code",
   "execution_count": null,
   "metadata": {
    "collapsed": true
   },
   "outputs": [],
   "source": [
    "class Stack:\n",
    "\n",
    "    def __init__(self):\n",
    "        self._items = []\n",
    "\n",
    "    def is_empty(self):\n",
    "        return not bool(self._items)\n",
    "\n",
    "    def push(self, item):\n",
    "        self._items.insert(0, item)\n",
    "        self.display_stack()\n",
    "\n",
    "    def pop(self):\n",
    "        return (self._items.pop(0),self.display_stack())[0]\n",
    "\n",
    "    def peek(self):\n",
    "        return self._items[0]\n",
    "\n",
    "    def size(self):\n",
    "        return len(self._items)\n",
    "    \n",
    "    def display_stack(self):\n",
    "        print (self._items)"
   ]
  },
  {
   "cell_type": "code",
   "execution_count": null,
   "metadata": {
    "collapsed": true
   },
   "outputs": [],
   "source": [
    "b=Stack()"
   ]
  },
  {
   "cell_type": "code",
   "execution_count": null,
   "metadata": {},
   "outputs": [],
   "source": [
    "b.is_empty()"
   ]
  },
  {
   "cell_type": "code",
   "execution_count": null,
   "metadata": {},
   "outputs": [],
   "source": [
    "b.size()"
   ]
  },
  {
   "cell_type": "code",
   "execution_count": null,
   "metadata": {},
   "outputs": [],
   "source": [
    "b.display_stack()"
   ]
  },
  {
   "cell_type": "code",
   "execution_count": null,
   "metadata": {},
   "outputs": [],
   "source": [
    "b.push('/');b.push(1);b.push('a');b.push('b')"
   ]
  },
  {
   "cell_type": "code",
   "execution_count": null,
   "metadata": {},
   "outputs": [],
   "source": [
    "b.peek()"
   ]
  },
  {
   "cell_type": "code",
   "execution_count": null,
   "metadata": {
    "collapsed": true
   },
   "outputs": [],
   "source": []
  },
  {
   "cell_type": "code",
   "execution_count": null,
   "metadata": {},
   "outputs": [],
   "source": [
    "b.pop()"
   ]
  },
  {
   "cell_type": "markdown",
   "metadata": {},
   "source": [
    "### Balanced Parentheses"
   ]
  },
  {
   "cell_type": "code",
   "execution_count": null,
   "metadata": {
    "collapsed": true
   },
   "outputs": [],
   "source": [
    "OPENING = '('\n",
    "\n",
    "\n",
    "def is_balanced(parentheses):\n",
    "    stack = []\n",
    "    for paren in parentheses:\n",
    "        if paren == OPENING:\n",
    "            stack.append(paren)\n",
    "        else:\n",
    "            try:\n",
    "                stack.pop()\n",
    "            except IndexError:  # too many closing parens\n",
    "                return False\n",
    "    return len(stack) == 0  # false if too many opening parens"
   ]
  },
  {
   "cell_type": "code",
   "execution_count": null,
   "metadata": {},
   "outputs": [],
   "source": [
    "is_balanced('(())')"
   ]
  },
  {
   "cell_type": "code",
   "execution_count": null,
   "metadata": {
    "collapsed": true
   },
   "outputs": [],
   "source": [
    "PAIRINGS = {\n",
    "    '(': ')',\n",
    "    '{': '}',\n",
    "    '[': ']'\n",
    "}\n",
    "\n",
    "\n",
    "def is_balanced(symbols):\n",
    "    stack = []\n",
    "    for s in symbols:\n",
    "        if s in PAIRINGS:\n",
    "            stack.append(s)\n",
    "            continue\n",
    "        try:\n",
    "            expected_opening_symbol = stack.pop()\n",
    "        except IndexError:  # too many closing symbols\n",
    "            return False\n",
    "        if s != PAIRINGS[expected_opening_symbol]:  # mismatch\n",
    "            return False\n",
    "    return len(stack) == 0  # false if too many opening symbols"
   ]
  },
  {
   "cell_type": "code",
   "execution_count": null,
   "metadata": {},
   "outputs": [],
   "source": [
    "is_balanced('{{([][])}()}')"
   ]
  },
  {
   "cell_type": "code",
   "execution_count": null,
   "metadata": {},
   "outputs": [],
   "source": [
    "2**7+2**6"
   ]
  },
  {
   "cell_type": "markdown",
   "metadata": {},
   "source": [
    "### Decimal-to-binary conversion"
   ]
  },
  {
   "cell_type": "code",
   "execution_count": 3,
   "metadata": {
    "ExecuteTime": {
     "end_time": "2020-04-15T16:25:29.315766Z",
     "start_time": "2020-04-15T16:25:29.248762Z"
    }
   },
   "outputs": [],
   "source": [
    "def convert_to_binary(decimal_number):\n",
    "    remainder_stack = []\n",
    "\n",
    "    while decimal_number > 0:\n",
    "        print(f'{decimal_number}....{remainder_stack}')\n",
    "        remainder = decimal_number % 2\n",
    "        remainder_stack.append(remainder)\n",
    "        decimal_number = decimal_number // 2\n",
    "        \n",
    "        \n",
    "\n",
    "    binary_digits = []\n",
    "    while remainder_stack:\n",
    "        # we could just reverse and join `remainder_stack` of course,\n",
    "        # as it is simply a Python list, but popping off into another\n",
    "        # list helps demonstrate that the only behavior we need from\n",
    "        # `remainder_stack` is stack-like\n",
    "        binary_digits.append(str(remainder_stack.pop()))\n",
    "        print(binary_digits)\n",
    "\n",
    "    return ''.join(binary_digits)"
   ]
  },
  {
   "cell_type": "code",
   "execution_count": 5,
   "metadata": {
    "ExecuteTime": {
     "end_time": "2020-04-15T16:26:26.520038Z",
     "start_time": "2020-04-15T16:26:26.491036Z"
    }
   },
   "outputs": [
    {
     "name": "stdout",
     "output_type": "stream",
     "text": [
      "492....[]\n",
      "246....[0]\n",
      "123....[0, 0]\n",
      "61....[0, 0, 1]\n",
      "30....[0, 0, 1, 1]\n",
      "15....[0, 0, 1, 1, 0]\n",
      "7....[0, 0, 1, 1, 0, 1]\n",
      "3....[0, 0, 1, 1, 0, 1, 1]\n",
      "1....[0, 0, 1, 1, 0, 1, 1, 1]\n",
      "['1']\n",
      "['1', '1']\n",
      "['1', '1', '1']\n",
      "['1', '1', '1', '1']\n",
      "['1', '1', '1', '1', '0']\n",
      "['1', '1', '1', '1', '0', '1']\n",
      "['1', '1', '1', '1', '0', '1', '1']\n",
      "['1', '1', '1', '1', '0', '1', '1', '0']\n",
      "['1', '1', '1', '1', '0', '1', '1', '0', '0']\n"
     ]
    },
    {
     "data": {
      "text/plain": [
       "'111101100'"
      ]
     },
     "execution_count": 5,
     "metadata": {},
     "output_type": "execute_result"
    }
   ],
   "source": [
    "convert_to_binary(492)"
   ]
  },
  {
   "cell_type": "code",
   "execution_count": 19,
   "metadata": {
    "ExecuteTime": {
     "end_time": "2020-04-15T16:59:53.727844Z",
     "start_time": "2020-04-15T16:59:53.702842Z"
    },
    "collapsed": true
   },
   "outputs": [],
   "source": [
    "DIGITS = '0123456789abcdef'\n",
    "\n",
    "\n",
    "def convert_to_base(decimal_number, base):\n",
    "    remainder_stack = []\n",
    "\n",
    "    while decimal_number > 0:\n",
    "        print(f'{decimal_number}....{remainder_stack}')\n",
    "        remainder = decimal_number % base\n",
    "        remainder_stack.append(remainder)\n",
    "        decimal_number = decimal_number // base\n",
    "        \n",
    "        \n",
    "\n",
    "    new_digits = []\n",
    "    while remainder_stack:\n",
    "        new_digits.append(DIGITS[remainder_stack.pop()])\n",
    "        print(f'{new_digits}')\n",
    "\n",
    "    return ''.join(new_digits)"
   ]
  },
  {
   "cell_type": "code",
   "execution_count": 21,
   "metadata": {
    "ExecuteTime": {
     "end_time": "2020-04-15T17:00:43.625698Z",
     "start_time": "2020-04-15T17:00:43.612697Z"
    }
   },
   "outputs": [
    {
     "name": "stdout",
     "output_type": "stream",
     "text": [
      "25....[]\n",
      "1....[9]\n",
      "['1']\n",
      "['1', '9']\n"
     ]
    },
    {
     "data": {
      "text/plain": [
       "'19'"
      ]
     },
     "execution_count": 21,
     "metadata": {},
     "output_type": "execute_result"
    }
   ],
   "source": [
    "convert_to_base(25,16)"
   ]
  },
  {
   "cell_type": "code",
   "execution_count": 22,
   "metadata": {
    "ExecuteTime": {
     "end_time": "2020-04-15T17:02:47.833802Z",
     "start_time": "2020-04-15T17:02:47.754797Z"
    }
   },
   "outputs": [
    {
     "data": {
      "text/plain": [
       "'A B * C D * +'"
      ]
     },
     "execution_count": 22,
     "metadata": {},
     "output_type": "execute_result"
    }
   ],
   "source": [
    "PRECEDENCE = {\n",
    "    '*': 3,\n",
    "    '/': 3,\n",
    "    '+': 2,\n",
    "    '-': 2,\n",
    "    '(': 1\n",
    "}\n",
    "\n",
    "CHARACTERS = 'ABCDEFGHIJKLMNOPQRSTUVWXYZ'\n",
    "DIGITS = '0123456789'\n",
    "LEFT_PAREN = '('\n",
    "RIGHT_PAREN = ')'\n",
    "\n",
    "\n",
    "def infix_to_postfix(infix_expression):\n",
    "    operation_stack = []\n",
    "    postfix = []\n",
    "    tokens = infix_expression.split()\n",
    "\n",
    "    for token in tokens:\n",
    "        if token in CHARACTERS or token in DIGITS:\n",
    "            postfix.append(token)\n",
    "        elif token == LEFT_PAREN:\n",
    "            operation_stack.append(token)\n",
    "        elif token == RIGHT_PAREN:\n",
    "            top_token = operation_stack.pop()\n",
    "            while top_token != LEFT_PAREN:\n",
    "                postfix.append(top_token)\n",
    "                top_token = operation_stack.pop()\n",
    "        else:\n",
    "            while operation_stack and \\\n",
    "                    (PRECEDENCE[operation_stack[-1]] >= PRECEDENCE[token]):\n",
    "                postfix.append(operation_stack.pop())\n",
    "            operation_stack.append(token)\n",
    "\n",
    "    while operation_stack:\n",
    "        postfix.append(operation_stack.pop())\n",
    "    return ' '.join(postfix)\n",
    "\n",
    "infix_to_postfix('A * B + C * D')  # => 'A B * C D * +'"
   ]
  },
  {
   "cell_type": "code",
   "execution_count": null,
   "metadata": {
    "collapsed": true
   },
   "outputs": [],
   "source": []
  }
 ],
 "metadata": {
  "hide_input": false,
  "kernelspec": {
   "display_name": "Python 3",
   "language": "python",
   "name": "python3"
  },
  "language_info": {
   "codemirror_mode": {
    "name": "ipython",
    "version": 3
   },
   "file_extension": ".py",
   "mimetype": "text/x-python",
   "name": "python",
   "nbconvert_exporter": "python",
   "pygments_lexer": "ipython3",
   "version": "3.6.3"
  },
  "latex_envs": {
   "LaTeX_envs_menu_present": true,
   "autoclose": false,
   "autocomplete": true,
   "bibliofile": "biblio.bib",
   "cite_by": "apalike",
   "current_citInitial": 1,
   "eqLabelWithNumbers": true,
   "eqNumInitial": 1,
   "hotkeys": {
    "equation": "Ctrl-E",
    "itemize": "Ctrl-I"
   },
   "labels_anchors": false,
   "latex_user_defs": false,
   "report_style_numbering": false,
   "user_envs_cfg": false
  },
  "toc": {
   "base_numbering": 1,
   "nav_menu": {},
   "number_sections": true,
   "sideBar": true,
   "skip_h1_title": false,
   "title_cell": "Table of Contents",
   "title_sidebar": "Contents",
   "toc_cell": false,
   "toc_position": {
    "height": "calc(100% - 180px)",
    "left": "10px",
    "top": "150px",
    "width": "210px"
   },
   "toc_section_display": true,
   "toc_window_display": true
  },
  "varInspector": {
   "cols": {
    "lenName": 16,
    "lenType": 16,
    "lenVar": 40
   },
   "kernels_config": {
    "python": {
     "delete_cmd_postfix": "",
     "delete_cmd_prefix": "del ",
     "library": "var_list.py",
     "varRefreshCmd": "print(var_dic_list())"
    },
    "r": {
     "delete_cmd_postfix": ") ",
     "delete_cmd_prefix": "rm(",
     "library": "var_list.r",
     "varRefreshCmd": "cat(var_dic_list()) "
    }
   },
   "types_to_exclude": [
    "module",
    "function",
    "builtin_function_or_method",
    "instance",
    "_Feature"
   ],
   "window_display": false
  }
 },
 "nbformat": 4,
 "nbformat_minor": 2
}
